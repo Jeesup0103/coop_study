{
 "cells": [
  {
   "cell_type": "code",
   "execution_count": 23,
   "id": "c5db2bf1",
   "metadata": {},
   "outputs": [
    {
     "name": "stdout",
     "output_type": "stream",
     "text": [
      "36912.340627105965\n",
      "197.27616517267734\n",
      "40.382204732867955\n",
      "12.458595305950892\n",
      "4.748450487973061\n",
      "2.094403774729628\n",
      "0.992577014495958\n",
      "0.47902361996604376\n",
      "0.2322951457331713\n",
      "0.11347932062373539\n",
      "0.055587942901025894\n",
      "0.027271312394321068\n",
      "0.01340394160309082\n",
      "0.006604620970455339\n",
      "0.003264667039835274\n",
      "0.00161978791050889\n",
      "0.0008070927071039654\n",
      "0.00040404013479562\n",
      "0.00020329655047236853\n",
      "0.0001028469810825507\n"
     ]
    }
   ],
   "source": [
    "import numpy as np\n",
    "from numpy.random import randn\n",
    "N, Din, H, Dout = 64, 1000, 100, 10\n",
    "x, y = randn(N, Din), randn(N, Dout)\n",
    "w1, w2 = randn(Din, H), randn(H, Dout)\n",
    "for t in range(10000):\n",
    "    h = 1.0 / (1.0 + np.exp(-x.dot(w1)))\n",
    "    y_pred = h.dot(w2)\n",
    "    loss = np.square(y_pred - y).sum()\n",
    "    dy_pred = 2.0 * (y_pred-y)\n",
    "    dw2 = h.T.dot(dy_pred)\n",
    "    dh = dy_pred.dot(w2.T)\n",
    "    dw1 = x.T.dot(dh * h * (1-h))\n",
    "    w1 -= 1e-4 * dw1\n",
    "    w2 -= 1e-4 * dw2\n",
    "    if t%500 == 0:\n",
    "        print(loss)\n"
   ]
  },
  {
   "cell_type": "code",
   "execution_count": 17,
   "id": "b01ce115",
   "metadata": {},
   "outputs": [
    {
     "name": "stdout",
     "output_type": "stream",
     "text": [
      "-0.19661193324148185\n",
      "0.3932238664829637\n",
      "-0.3932238664829637\n",
      "-0.5898357997244456\n",
      "0.19661193324148185\n"
     ]
    }
   ],
   "source": [
    "def sigmoid(x):\n",
    "    return 1 / (1 +np.exp(-x))\n",
    "\n",
    "def f(w0, x0, w1, x1 ,w2):\n",
    "    s0 = w0 * x0\n",
    "    s1 = w1 * x1\n",
    "    s2 = s0 + s1\n",
    "    s3 = s2 + w2\n",
    "    L = sigmoid(s3)\n",
    "    \n",
    "    grad_L = 1.0\n",
    "    grad_s3 = grad_L * (1-L) * L\n",
    "    grad_w2 = grad_s3\n",
    "    grad_s2 = grad_s3\n",
    "    grad_s0 = grad_s2\n",
    "    grad_s1 = grad_s2\n",
    "    grad_w1 = grad_s1 * x1\n",
    "    grad_x1 = grad_s1 * w1\n",
    "    grad_w0 = grad_s0 * x0\n",
    "    grad_x0 = grad_s0 * w0\n",
    "    print(grad_w0)\n",
    "    print(grad_x0)\n",
    "    print(grad_w1)\n",
    "    print(grad_x1)\n",
    "    print(grad_w2)\n",
    "\n",
    "\n",
    "f(2.0, -1.0, -3.0, -2.0, -3.0)\n",
    "\n"
   ]
  },
  {
   "cell_type": "code",
   "execution_count": null,
   "id": "ae03ac86",
   "metadata": {},
   "outputs": [],
   "source": []
  }
 ],
 "metadata": {
  "kernelspec": {
   "display_name": "Python 3 (ipykernel)",
   "language": "python",
   "name": "python3"
  },
  "language_info": {
   "codemirror_mode": {
    "name": "ipython",
    "version": 3
   },
   "file_extension": ".py",
   "mimetype": "text/x-python",
   "name": "python",
   "nbconvert_exporter": "python",
   "pygments_lexer": "ipython3",
   "version": "3.9.16"
  }
 },
 "nbformat": 4,
 "nbformat_minor": 5
}
